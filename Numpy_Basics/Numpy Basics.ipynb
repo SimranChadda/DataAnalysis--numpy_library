{
 "cells": [
  {
   "cell_type": "markdown",
   "metadata": {},
   "source": [
    "# DATA ANALYSIS LIBRARY"
   ]
  },
  {
   "cell_type": "markdown",
   "metadata": {},
   "source": [
    "# NumPy Basics\n",
    "Numpy is a library for the Python programming language, adding support for large, multi-dimensional arrays and matrices, along with a large collection of high-level mathematical functions to operate on these arrays.\n",
    "\n",
    "Numpy is a Data Analysis Library\n"
   ]
  },
  {
   "cell_type": "markdown",
   "metadata": {},
   "source": [
    "###### asking for help\n",
    "np.info (np.ndarray.dtype)"
   ]
  },
  {
   "cell_type": "code",
   "execution_count": 4,
   "metadata": {},
   "outputs": [],
   "source": [
    "#NumPy is a Python package which stands for ‘Numerical Python’.\n",
    "#It is the core library for scientific computing, which contains a powerful n-dimensional array object."
   ]
  },
  {
   "cell_type": "code",
   "execution_count": 5,
   "metadata": {},
   "outputs": [],
   "source": [
    "#Array is divided into 2 types- VECTORS AND MATRICES"
   ]
  },
  {
   "cell_type": "code",
   "execution_count": 6,
   "metadata": {},
   "outputs": [],
   "source": [
    "#VECTORS"
   ]
  },
  {
   "cell_type": "code",
   "execution_count": 3,
   "metadata": {},
   "outputs": [],
   "source": [
    "import numpy as np"
   ]
  },
  {
   "cell_type": "code",
   "execution_count": 4,
   "metadata": {},
   "outputs": [],
   "source": [
    "#Creating 1-D array which we than call a Vector\n",
    "\n",
    "OneD_row= np.array([1,2,3]) # if we add multiple values in a single list a row is being created.\n",
    "\n",
    "OneD_column= np.array([[4],[5],[6]]) #if we add multiple list into the list a column is being created."
   ]
  },
  {
   "cell_type": "code",
   "execution_count": 5,
   "metadata": {},
   "outputs": [
    {
     "name": "stdout",
     "output_type": "stream",
     "text": [
      "[1 2 3]\n",
      "[[4]\n",
      " [5]\n",
      " [6]]\n"
     ]
    }
   ],
   "source": [
    "print(OneD_row)\n",
    "\n",
    "print(OneD_column)"
   ]
  },
  {
   "cell_type": "code",
   "execution_count": 6,
   "metadata": {},
   "outputs": [
    {
     "data": {
      "text/plain": [
       "1"
      ]
     },
     "execution_count": 6,
     "metadata": {},
     "output_type": "execute_result"
    }
   ],
   "source": [
    "#Inspecting your array\n",
    "\n",
    "OneD_row.ndim  #checks overall dimension- you can check it by square brackets "
   ]
  },
  {
   "cell_type": "code",
   "execution_count": 7,
   "metadata": {},
   "outputs": [
    {
     "data": {
      "text/plain": [
       "numpy.ndarray"
      ]
     },
     "execution_count": 7,
     "metadata": {},
     "output_type": "execute_result"
    }
   ],
   "source": [
    "type(OneD_row) #checks overall type of variable assigned"
   ]
  },
  {
   "cell_type": "code",
   "execution_count": 28,
   "metadata": {},
   "outputs": [
    {
     "data": {
      "text/plain": [
       "3"
      ]
     },
     "execution_count": 28,
     "metadata": {},
     "output_type": "execute_result"
    }
   ],
   "source": [
    "len(OneD_row) #length of array"
   ]
  },
  {
   "cell_type": "code",
   "execution_count": 8,
   "metadata": {},
   "outputs": [
    {
     "data": {
      "text/plain": [
       "dtype('int32')"
      ]
     },
     "execution_count": 8,
     "metadata": {},
     "output_type": "execute_result"
    }
   ],
   "source": [
    "OneD_row.dtype #checks datatype inside an array(here, in this case vector)"
   ]
  },
  {
   "cell_type": "code",
   "execution_count": 9,
   "metadata": {},
   "outputs": [
    {
     "data": {
      "text/plain": [
       "3"
      ]
     },
     "execution_count": 9,
     "metadata": {},
     "output_type": "execute_result"
    }
   ],
   "source": [
    "OneD_row.size #checks number of elements inside a vector"
   ]
  },
  {
   "cell_type": "code",
   "execution_count": 10,
   "metadata": {},
   "outputs": [
    {
     "data": {
      "text/plain": [
       "array([[1, 2, 3]])"
      ]
     },
     "execution_count": 10,
     "metadata": {},
     "output_type": "execute_result"
    }
   ],
   "source": [
    "OneD_row.reshape(1,-1)"
   ]
  },
  {
   "cell_type": "code",
   "execution_count": 11,
   "metadata": {},
   "outputs": [],
   "source": [
    "#MATRICES- can be 2-D or any D array\n",
    "#Note- 2-D arrays are always dependent upon 1-D array"
   ]
  },
  {
   "cell_type": "code",
   "execution_count": 12,
   "metadata": {},
   "outputs": [
    {
     "data": {
      "text/plain": [
       "array([[1, 2, 3, 4, 4, 5, 6, 7, 5, 6, 7, 8]])"
      ]
     },
     "execution_count": 12,
     "metadata": {},
     "output_type": "execute_result"
    }
   ],
   "source": [
    "matrix= np.array([[1,2,3,4,4,5,6,7,5,6,7,8]])\n",
    "matrix"
   ]
  },
  {
   "cell_type": "code",
   "execution_count": 13,
   "metadata": {},
   "outputs": [
    {
     "data": {
      "text/plain": [
       "2"
      ]
     },
     "execution_count": 13,
     "metadata": {},
     "output_type": "execute_result"
    }
   ],
   "source": [
    "#Inspecting your array\n",
    "\n",
    "matrix.ndim #by seeing 2 square brackets, we can say that it is matrix and is 2-D array"
   ]
  },
  {
   "cell_type": "code",
   "execution_count": 14,
   "metadata": {},
   "outputs": [
    {
     "data": {
      "text/plain": [
       "numpy.ndarray"
      ]
     },
     "execution_count": 14,
     "metadata": {},
     "output_type": "execute_result"
    }
   ],
   "source": [
    "type(matrix)"
   ]
  },
  {
   "cell_type": "code",
   "execution_count": 15,
   "metadata": {},
   "outputs": [
    {
     "data": {
      "text/plain": [
       "dtype('int32')"
      ]
     },
     "execution_count": 15,
     "metadata": {},
     "output_type": "execute_result"
    }
   ],
   "source": [
    "matrix.dtype"
   ]
  },
  {
   "cell_type": "code",
   "execution_count": 16,
   "metadata": {},
   "outputs": [
    {
     "data": {
      "text/plain": [
       "12"
      ]
     },
     "execution_count": 16,
     "metadata": {},
     "output_type": "execute_result"
    }
   ],
   "source": [
    "matrix.size"
   ]
  },
  {
   "cell_type": "code",
   "execution_count": 17,
   "metadata": {},
   "outputs": [],
   "source": [
    "a= matrix.reshape(4,3) "
   ]
  },
  {
   "cell_type": "code",
   "execution_count": 18,
   "metadata": {},
   "outputs": [
    {
     "data": {
      "text/plain": [
       "(4, 3)"
      ]
     },
     "execution_count": 18,
     "metadata": {},
     "output_type": "execute_result"
    }
   ],
   "source": [
    "a.shape"
   ]
  },
  {
   "cell_type": "code",
   "execution_count": 19,
   "metadata": {},
   "outputs": [],
   "source": [
    "#to convert the elements in matrix in float, use astype()\n",
    "\n",
    "result= matrix.astype(float)\n",
    "b= result.reshape(4,3)"
   ]
  },
  {
   "cell_type": "code",
   "execution_count": 20,
   "metadata": {},
   "outputs": [
    {
     "data": {
      "text/plain": [
       "(4, 3)"
      ]
     },
     "execution_count": 20,
     "metadata": {},
     "output_type": "execute_result"
    }
   ],
   "source": [
    "b.shape"
   ]
  },
  {
   "cell_type": "code",
   "execution_count": 21,
   "metadata": {},
   "outputs": [
    {
     "name": "stdout",
     "output_type": "stream",
     "text": [
      "2D array\n",
      "\n",
      " [[1 2 3]\n",
      " [4 5 6]\n",
      " [7 8 9]\n",
      " [1 3 5]]\n"
     ]
    }
   ],
   "source": [
    "#Creating a Matrix(2D array) of [4,3].(Note the syntax) \n",
    "#here, if we want to create a [4,3] matrix rather than reshaping so we can manually create it\n",
    "\n",
    "arr = np.array([ [1,2,3],[4,5,6],[7,8,9],[1,3,5]])\n",
    "\n",
    "print('2D array\\n\\n',arr)"
   ]
  },
  {
   "cell_type": "code",
   "execution_count": 22,
   "metadata": {},
   "outputs": [
    {
     "data": {
      "text/plain": [
       "2"
      ]
     },
     "execution_count": 22,
     "metadata": {},
     "output_type": "execute_result"
    }
   ],
   "source": [
    "arr.ndim"
   ]
  },
  {
   "cell_type": "code",
   "execution_count": 23,
   "metadata": {},
   "outputs": [
    {
     "data": {
      "text/plain": [
       "2"
      ]
     },
     "execution_count": 23,
     "metadata": {},
     "output_type": "execute_result"
    }
   ],
   "source": [
    "arr[0][1]"
   ]
  },
  {
   "cell_type": "code",
   "execution_count": 24,
   "metadata": {},
   "outputs": [
    {
     "data": {
      "text/plain": [
       "array([3, 5])"
      ]
     },
     "execution_count": 24,
     "metadata": {},
     "output_type": "execute_result"
    }
   ],
   "source": [
    "#Selecting elements from a particular row or column\n",
    "\n",
    "arr[3,1:]"
   ]
  },
  {
   "cell_type": "code",
   "execution_count": 25,
   "metadata": {},
   "outputs": [
    {
     "name": "stdout",
     "output_type": "stream",
     "text": [
      "[1 4 7 1]\n"
     ]
    }
   ],
   "source": [
    "print(arr[:,0]) #it will print whole Zeroth column"
   ]
  },
  {
   "cell_type": "code",
   "execution_count": 43,
   "metadata": {
    "scrolled": true
   },
   "outputs": [
    {
     "name": "stdout",
     "output_type": "stream",
     "text": [
      "3D array \n",
      " [[[ 1  2  3]]\n",
      "\n",
      " [[ 4  8  9]]\n",
      "\n",
      " [[ 5  6  7]]\n",
      "\n",
      " [[ 8  9 10]]]\n"
     ]
    }
   ],
   "source": [
    "#Creating a Matrix(3D array) of [4,3]. (Note the Syntax)\n",
    "#3D--> block gets starts. In 2D, the block will not be there as it is 2-D.\n",
    "\n",
    "arr3= np.array([ [[1,2,3]],[[4,8,9]],[[5,6,7]],[[8,9,10]] ]) #check the square brackets\n",
    "print('3D array \\n',arr3)"
   ]
  },
  {
   "cell_type": "code",
   "execution_count": 65,
   "metadata": {},
   "outputs": [
    {
     "data": {
      "text/plain": [
       "9"
      ]
     },
     "execution_count": 65,
     "metadata": {},
     "output_type": "execute_result"
    }
   ],
   "source": [
    "#NOTE\n",
    "arr3[1,0,2] #block, row--> individual counting , column"
   ]
  },
  {
   "cell_type": "code",
   "execution_count": 44,
   "metadata": {},
   "outputs": [
    {
     "data": {
      "text/plain": [
       "3"
      ]
     },
     "execution_count": 44,
     "metadata": {},
     "output_type": "execute_result"
    }
   ],
   "source": [
    "arr3.ndim"
   ]
  },
  {
   "cell_type": "code",
   "execution_count": 45,
   "metadata": {},
   "outputs": [
    {
     "data": {
      "text/plain": [
       "(4, 1, 3)"
      ]
     },
     "execution_count": 45,
     "metadata": {},
     "output_type": "execute_result"
    }
   ],
   "source": [
    "arr3.shape #blocks,rows,columns"
   ]
  },
  {
   "cell_type": "code",
   "execution_count": 51,
   "metadata": {},
   "outputs": [],
   "source": [
    "#Selecting elements from a particular row or column\n",
    "\n",
    "\n",
    "#print(arr3[:2,2])   #it will print in mxn form\n",
    "\n",
    "#doubt cleared. Always remember block size in 3-D matrices."
   ]
  },
  {
   "cell_type": "code",
   "execution_count": 53,
   "metadata": {},
   "outputs": [
    {
     "data": {
      "text/plain": [
       "array([[[1, 2, 3],\n",
       "        [4, 8, 9],\n",
       "        [5, 6, 7],\n",
       "        [1, 5, 8]]])"
      ]
     },
     "execution_count": 53,
     "metadata": {},
     "output_type": "execute_result"
    }
   ],
   "source": [
    "arr4= np.array([[ [1,2,3],[4,8,9],[5,6,7],[1,5,8] ]])\n",
    "arr4"
   ]
  },
  {
   "cell_type": "code",
   "execution_count": 61,
   "metadata": {},
   "outputs": [
    {
     "data": {
      "text/plain": [
       "9"
      ]
     },
     "execution_count": 61,
     "metadata": {},
     "output_type": "execute_result"
    }
   ],
   "source": [
    "#NOTE\n",
    "arr4[0,1,2] #block, row, column"
   ]
  },
  {
   "cell_type": "code",
   "execution_count": 59,
   "metadata": {},
   "outputs": [
    {
     "data": {
      "text/plain": [
       "3"
      ]
     },
     "execution_count": 59,
     "metadata": {},
     "output_type": "execute_result"
    }
   ],
   "source": [
    "#Printing array dimensions(axes) by default axes=0 row and axis=1 is column\n",
    "\n",
    "arr4.ndim"
   ]
  },
  {
   "cell_type": "code",
   "execution_count": 66,
   "metadata": {},
   "outputs": [
    {
     "data": {
      "text/plain": [
       "(1, 4, 3)"
      ]
     },
     "execution_count": 66,
     "metadata": {},
     "output_type": "execute_result"
    }
   ],
   "source": [
    "#NOTE\n",
    "arr4.shape"
   ]
  },
  {
   "cell_type": "code",
   "execution_count": 65,
   "metadata": {},
   "outputs": [
    {
     "data": {
      "text/plain": [
       "dtype('int32')"
      ]
     },
     "execution_count": 65,
     "metadata": {},
     "output_type": "execute_result"
    }
   ],
   "source": [
    "arr.dtype"
   ]
  },
  {
   "cell_type": "code",
   "execution_count": 66,
   "metadata": {},
   "outputs": [
    {
     "data": {
      "text/plain": [
       "12"
      ]
     },
     "execution_count": 66,
     "metadata": {},
     "output_type": "execute_result"
    }
   ],
   "source": [
    "arr.size"
   ]
  },
  {
   "cell_type": "code",
   "execution_count": 61,
   "metadata": {},
   "outputs": [
    {
     "data": {
      "text/plain": [
       "(4, 3)"
      ]
     },
     "execution_count": 61,
     "metadata": {},
     "output_type": "execute_result"
    }
   ],
   "source": [
    "arr.shape"
   ]
  },
  {
   "cell_type": "markdown",
   "metadata": {},
   "source": [
    "# Array Creating Techniques"
   ]
  },
  {
   "cell_type": "code",
   "execution_count": 69,
   "metadata": {},
   "outputs": [],
   "source": [
    " #creating vector through list\n",
    "    \n",
    "list1= [1,2,3,4] "
   ]
  },
  {
   "cell_type": "code",
   "execution_count": 70,
   "metadata": {},
   "outputs": [
    {
     "data": {
      "text/plain": [
       "array([1, 2, 3, 4])"
      ]
     },
     "execution_count": 70,
     "metadata": {},
     "output_type": "execute_result"
    }
   ],
   "source": [
    "a1= np.array(list1)\n",
    "a1"
   ]
  },
  {
   "cell_type": "code",
   "execution_count": 71,
   "metadata": {},
   "outputs": [
    {
     "data": {
      "text/plain": [
       "array([[1, 2, 3],\n",
       "       [4, 5, 6]])"
      ]
     },
     "execution_count": 71,
     "metadata": {},
     "output_type": "execute_result"
    }
   ],
   "source": [
    "#creating matrices through list\n",
    "\n",
    "my_mat= [[1,2,3], [4,5,6]] \n",
    "a2= np.array(my_mat)\n",
    "a2"
   ]
  },
  {
   "cell_type": "code",
   "execution_count": 73,
   "metadata": {},
   "outputs": [
    {
     "data": {
      "text/plain": [
       "array([1, 2, 3, 4])"
      ]
     },
     "execution_count": 73,
     "metadata": {},
     "output_type": "execute_result"
    }
   ],
   "source": [
    "#creating vector through tuple\n",
    "\n",
    "tup= (1,2,3,4)   \n",
    "a12= np.array(tup)\n",
    "a12"
   ]
  },
  {
   "cell_type": "code",
   "execution_count": 75,
   "metadata": {},
   "outputs": [
    {
     "data": {
      "text/plain": [
       "array([[1, 2, 3],\n",
       "       [4, 5, 6]])"
      ]
     },
     "execution_count": 75,
     "metadata": {},
     "output_type": "execute_result"
    }
   ],
   "source": [
    "#creating matrices through tuple\n",
    "\n",
    "my_mat2= ((1,2,3),(4,5,6))  \n",
    "a22= np.array(my_mat2)\n",
    "a22"
   ]
  },
  {
   "cell_type": "code",
   "execution_count": 78,
   "metadata": {},
   "outputs": [
    {
     "name": "stdout",
     "output_type": "stream",
     "text": [
      "Array with all zero elements:\n",
      " [[0. 0. 0.]\n",
      " [0. 0. 0.]\n",
      " [0. 0. 0.]] \n",
      "\n",
      "Array with all ones elements:\n",
      " [[1. 1. 1.]\n",
      " [1. 1. 1.]\n",
      " [1. 1. 1.]]\n"
     ]
    }
   ],
   "source": [
    "#Creating arrays with all zero elements and one elements\n",
    "\n",
    "c= np.zeros((3,3))\n",
    "d= np.ones((3,3))\n",
    "\n",
    "print('Array with all zero elements:\\n',c,'\\n')\n",
    "print('Array with all ones elements:\\n',d)"
   ]
  },
  {
   "cell_type": "code",
   "execution_count": 80,
   "metadata": {},
   "outputs": [
    {
     "name": "stdout",
     "output_type": "stream",
     "text": [
      "Complex array with constant value:,\n",
      " [[6.+0.j 6.+0.j]\n",
      " [6.+0.j 6.+0.j]]\n"
     ]
    }
   ],
   "source": [
    "#Creating constatnt value arrays with type complex\n",
    "\n",
    "e= np.full((2,2),6,dtype=complex)   #np.full-create array with constant elements here constant is 6\n",
    "print('Complex array with constant value:,\\n',e)"
   ]
  },
  {
   "cell_type": "code",
   "execution_count": 27,
   "metadata": {},
   "outputs": [
    {
     "name": "stdout",
     "output_type": "stream",
     "text": [
      "[[1. 0. 0. 0.]\n",
      " [0. 1. 0. 0.]\n",
      " [0. 0. 1. 0.]\n",
      " [0. 0. 0. 1.]]\n"
     ]
    }
   ],
   "source": [
    "#It willl print the identity matrix.\n",
    "\n",
    "z= np.eye(4) \n",
    "print(z)"
   ]
  },
  {
   "cell_type": "code",
   "execution_count": 82,
   "metadata": {},
   "outputs": [
    {
     "name": "stdout",
     "output_type": "stream",
     "text": [
      "Create random values array:\n",
      " [[0.90160627 0.24125674 0.11252127]\n",
      " [0.30990454 0.62636109 0.86349873]\n",
      " [0.40299349 0.8786817  0.82007529]]\n"
     ]
    }
   ],
   "source": [
    "#Creating array with random values\n",
    "\n",
    "f= np.random.random((3,3))  \n",
    "print('Create random values array:\\n',f)"
   ]
  },
  {
   "cell_type": "code",
   "execution_count": 87,
   "metadata": {},
   "outputs": [
    {
     "data": {
      "text/plain": [
       "array([[0.51327752, 0.79466953, 0.45242957, 0.27286623, 0.2333167 ],\n",
       "       [0.54176719, 0.77359727, 0.63433345, 0.90221899, 0.38103672],\n",
       "       [0.84279112, 0.04973945, 0.2818334 , 0.98390846, 0.84479618],\n",
       "       [0.07735886, 0.30658231, 0.65617781, 0.42255498, 0.55808347],\n",
       "       [0.92350543, 0.44946426, 0.05268274, 0.67317406, 0.26470438]])"
      ]
     },
     "execution_count": 87,
     "metadata": {},
     "output_type": "execute_result"
    }
   ],
   "source": [
    "o= np.random.rand(5,5)\n",
    "o"
   ]
  },
  {
   "cell_type": "code",
   "execution_count": 89,
   "metadata": {},
   "outputs": [
    {
     "data": {
      "text/plain": [
       "array([0.        , 0.55555556, 1.11111111, 1.66666667, 2.22222222,\n",
       "       2.77777778, 3.33333333, 3.88888889, 4.44444444, 5.        ])"
      ]
     },
     "execution_count": 89,
     "metadata": {},
     "output_type": "execute_result"
    }
   ],
   "source": [
    "#returns evenly spaced numbers over specified interval\n",
    "\n",
    "q= np.linspace(0,5,10) \n",
    "q"
   ]
  },
  {
   "cell_type": "code",
   "execution_count": 83,
   "metadata": {},
   "outputs": [
    {
     "name": "stdout",
     "output_type": "stream",
     "text": [
      "Sequencing:\n",
      " [ 0  5 10 15 20 25 30]\n"
     ]
    }
   ],
   "source": [
    "#Creating a sequencing of integers from 0 to 30 with steps of 5\n",
    "\n",
    "g= np.arange(0,31,5)        #it will print an sequence of numbers from 0 to 30 with difference of 5\n",
    "print('Sequencing:\\n',g)    #and then can reshape of your own choice"
   ]
  },
  {
   "cell_type": "code",
   "execution_count": 98,
   "metadata": {},
   "outputs": [
    {
     "data": {
      "text/plain": [
       "array([[99, 99],\n",
       "       [99, 99]])"
      ]
     },
     "execution_count": 98,
     "metadata": {},
     "output_type": "execute_result"
    }
   ],
   "source": [
    "v= np.full((2,2), 99)\n",
    "v"
   ]
  },
  {
   "cell_type": "code",
   "execution_count": 108,
   "metadata": {},
   "outputs": [
    {
     "name": "stdout",
     "output_type": "stream",
     "text": [
      "Original array:\n",
      " [[1 2 3 0]\n",
      " [4 5 6 8]\n",
      " [7 8 9 5]]\n",
      "\n",
      "\n",
      "Reshaped array:\n",
      " [[1 2 3 0 4 5]\n",
      " [6 8 7 8 9 5]]\n",
      "\n",
      "\n",
      "Reshaped array:\n",
      " [[[1 2 3]\n",
      "  [0 4 5]]\n",
      "\n",
      " [[6 8 7]\n",
      "  [8 9 5]]]\n"
     ]
    }
   ],
   "source": [
    "#Reshaping the 3X4 array into 2X6 array\n",
    "\n",
    "h= np.array([[1,2,3,0],[4,5,6,8],[7,8,9,5]])\n",
    "print('Original array:\\n',h)\n",
    "\n",
    "print(\"\\n\")\n",
    "\n",
    "newarray= h.reshape(2,6)      #converting a 3X4 array into 2X6 array (note-while reshaping size of the arrays(No.of elements) should not be changed)\n",
    "print('Reshaped array:\\n',newarray)\n",
    "\n",
    "print(\"\\n\")\n",
    "\n",
    "array= h.reshape(2,2,3)      #Converting array of 3X4 into two different 3X2 array \n",
    "print('Reshaped array:\\n',array)\n"
   ]
  },
  {
   "cell_type": "code",
   "execution_count": 99,
   "metadata": {},
   "outputs": [
    {
     "name": "stdout",
     "output_type": "stream",
     "text": [
      "[[1]\n",
      " [2]\n",
      " [3]\n",
      " [4]\n",
      " [5]\n",
      " [6]\n",
      " [7]\n",
      " [8]]\n"
     ]
    }
   ],
   "source": [
    "# Vertically stacking vectors--> means rows\n",
    "\n",
    "v1 = np.array([[1],[2],[3],[4]])\n",
    "v2 = np.array([[5],[6],[7],[8]])\n",
    "\n",
    "v3 =np.vstack([v1,v2])\n",
    "print(v3)"
   ]
  },
  {
   "cell_type": "code",
   "execution_count": 100,
   "metadata": {},
   "outputs": [
    {
     "data": {
      "text/plain": [
       "2"
      ]
     },
     "execution_count": 100,
     "metadata": {},
     "output_type": "execute_result"
    }
   ],
   "source": [
    "v3.ndim"
   ]
  },
  {
   "cell_type": "code",
   "execution_count": 101,
   "metadata": {},
   "outputs": [
    {
     "data": {
      "text/plain": [
       "2"
      ]
     },
     "execution_count": 101,
     "metadata": {},
     "output_type": "execute_result"
    }
   ],
   "source": [
    "v1.ndim"
   ]
  },
  {
   "cell_type": "code",
   "execution_count": 102,
   "metadata": {},
   "outputs": [
    {
     "name": "stdout",
     "output_type": "stream",
     "text": [
      "[[1. 1. 1. 1. 0. 0.]\n",
      " [1. 1. 1. 1. 0. 0.]]\n"
     ]
    }
   ],
   "source": [
    "# Horizontal  stack--> means column\n",
    "\n",
    "h1 = np.ones((2,4))\n",
    "h2 = np.zeros((2,2))\n",
    "\n",
    "h3 = np.hstack((h1,h2)) #or can use above example and convert into hstack\n",
    "print(h3)"
   ]
  },
  {
   "cell_type": "code",
   "execution_count": 107,
   "metadata": {},
   "outputs": [
    {
     "name": "stdout",
     "output_type": "stream",
     "text": [
      "Original 2D array:\n",
      " [[1 2 3]\n",
      " [4 5 6]]\n",
      "\n",
      "\n",
      "Flatten array:\n",
      " [1 2 3 4 5 6]\n"
     ]
    }
   ],
   "source": [
    "#converting a 2D array into 1D array using flatten\n",
    "#flatten- changes dimension into 1D always\n",
    "\n",
    "i= np.array([[1,2,3],[4,5,6]])\n",
    "print('Original 2D array:\\n',i)\n",
    "\n",
    "print(\"\\n\")\n",
    "\n",
    "j= i.flatten()\n",
    "print('Flatten array:\\n',j)"
   ]
  },
  {
   "cell_type": "markdown",
   "metadata": {},
   "source": [
    "# Slicing an Array"
   ]
  },
  {
   "cell_type": "code",
   "execution_count": 111,
   "metadata": {},
   "outputs": [
    {
     "name": "stdout",
     "output_type": "stream",
     "text": [
      "Orignal array:\n",
      " [[ 1.   2.   3.   4. ]\n",
      " [ 5.  -0.9  6.   9. ]\n",
      " [ 9.   5.   7.   8. ]\n",
      " [-9.   7.   9.   2. ]] \n",
      "\n",
      "Print s:\n",
      " [[ 5.  -0.9  6.   9. ]\n",
      " [ 9.   5.   7.   8. ]\n",
      " [-9.   7.   9.   2. ]] \n",
      "\n",
      "Print t:\n",
      " [[ 1.   2.   3.   4. ]\n",
      " [ 5.  -0.9  6.   9. ]] \n",
      "\n",
      "Print u:\n",
      " [[ 1.]\n",
      " [ 5.]\n",
      " [ 9.]\n",
      " [-9.]] \n",
      "\n",
      "[[ 5.  -0.9]\n",
      " [ 9.   5. ]\n",
      " [-9.   7. ]]\n"
     ]
    }
   ],
   "source": [
    "#Creating array by selecting any row and column you want\n",
    "\n",
    "array= np.array([[1,2,3,4],[5,-0.9,6,9],[9,5,7,8],[-9,7,9,2]])\n",
    "\n",
    "s= array[1:4]      # it will print from first row till (4-1)th row\n",
    "t= array[:2]       # it will print from 0th row to (2-1)th row\n",
    "u= array[:,0:1]    #it will print all rows and 0th column\n",
    "w= array[1:4,0:2]\n",
    "\n",
    "print('Orignal array:\\n',array,'\\n')\n",
    "\n",
    "print('Print s:\\n',s,'\\n')\n",
    "print('Print t:\\n',t,'\\n')\n",
    "print('Print u:\\n',u ,'\\n')\n",
    "print(w)"
   ]
  },
  {
   "cell_type": "code",
   "execution_count": 112,
   "metadata": {},
   "outputs": [
    {
     "name": "stdout",
     "output_type": "stream",
     "text": [
      "5.0\n",
      "5.0\n"
     ]
    },
    {
     "data": {
      "text/plain": [
       "array([[  1.,   2.,   3.,   4.],\n",
       "       [  5., 100.,   6.,   9.],\n",
       "       [  9.,   5.,   7.,   8.],\n",
       "       [ -9.,   7.,   9.,   2.]])"
      ]
     },
     "execution_count": 112,
     "metadata": {},
     "output_type": "execute_result"
    }
   ],
   "source": [
    "array= np.array([[1,2,3,4],[5,-0.9,6,9],[9,5,7,8],[-9,7,9,2]])\n",
    "\n",
    "print(array[2,1])\n",
    "array[1,1]= 100  \n",
    "\n",
    "print(array[2,1])\n",
    "array\n",
    "#here we had one element of the array and print the new one"
   ]
  },
  {
   "cell_type": "code",
   "execution_count": 113,
   "metadata": {},
   "outputs": [
    {
     "name": "stdout",
     "output_type": "stream",
     "text": [
      "Orignal array:\n",
      " [[ 1.   2.   3.   4. ]\n",
      " [ 5.   0.9  6.   9. ]\n",
      " [ 9.   5.   7.   8. ]\n",
      " [-9.   7.   9.   2. ]] \n",
      "\n",
      "This are the rows and columns:\n",
      " [[1. 3.]\n",
      " [5. 6.]]\n"
     ]
    }
   ],
   "source": [
    "#Creating array by selecting any row and column you want\n",
    "\n",
    "arr= np.array([[1,2,3,4],[5,0.9,6,9],[9,5,7,8],[-9,7,9,2]])\n",
    "select= array[:2,::2]   #:2 will select first two rows and ::2 will select alternate columns from the given array\n",
    "print('Orignal array:\\n',arr,'\\n')\n",
    "print('This are the rows and columns:\\n',select)"
   ]
  },
  {
   "cell_type": "code",
   "execution_count": 114,
   "metadata": {},
   "outputs": [
    {
     "data": {
      "text/plain": [
       "array([[ 1,  2,  3,  4],\n",
       "       [ 5,  0,  6,  9],\n",
       "       [ 9,  5,  7,  8],\n",
       "       [-9,  7,  9,  2]])"
      ]
     },
     "execution_count": 114,
     "metadata": {},
     "output_type": "execute_result"
    }
   ],
   "source": [
    "arr.astype(int) "
   ]
  },
  {
   "cell_type": "code",
   "execution_count": 115,
   "metadata": {},
   "outputs": [
    {
     "data": {
      "text/plain": [
       "array([[ 1. ,  2. ,  3. ,  4. ],\n",
       "       [ 5. ,  0.9,  6. ,  9. ],\n",
       "       [ 9. ,  5. ,  7. ,  8. ],\n",
       "       [-9. ,  7. ,  9. ,  2. ]])"
      ]
     },
     "execution_count": 115,
     "metadata": {},
     "output_type": "execute_result"
    }
   ],
   "source": [
    "arr.astype(float)"
   ]
  },
  {
   "cell_type": "code",
   "execution_count": 117,
   "metadata": {},
   "outputs": [
    {
     "name": "stdout",
     "output_type": "stream",
     "text": [
      "No.is greatet than zero:\n",
      " [6. 9. 9. 7. 8. 7. 9.]\n"
     ]
    }
   ],
   "source": [
    "#Boolean array indexing\n",
    "\n",
    "cond= arr > 5    #it is the synatx for printing elements of an array which is geater then 0\n",
    "temp= arr[arr>5]  \n",
    "\n",
    "print('No.is greatet than zero:\\n',temp)"
   ]
  },
  {
   "cell_type": "code",
   "execution_count": 118,
   "metadata": {},
   "outputs": [
    {
     "data": {
      "text/plain": [
       "array([[False, False, False, False],\n",
       "       [False, False,  True,  True],\n",
       "       [ True, False,  True,  True],\n",
       "       [False,  True,  True, False]])"
      ]
     },
     "execution_count": 118,
     "metadata": {},
     "output_type": "execute_result"
    }
   ],
   "source": [
    "cond"
   ]
  },
  {
   "cell_type": "code",
   "execution_count": 119,
   "metadata": {},
   "outputs": [
    {
     "name": "stdout",
     "output_type": "stream",
     "text": [
      "No.is greatet than zero:\n",
      " [6. 9. 9. 7. 8. 7. 9.]\n"
     ]
    }
   ],
   "source": [
    "print('No.is greatet than zero:\\n',arr[arr>5])"
   ]
  },
  {
   "cell_type": "code",
   "execution_count": 120,
   "metadata": {},
   "outputs": [
    {
     "name": "stdout",
     "output_type": "stream",
     "text": [
      "[[False False False False]\n",
      " [False False  True  True]\n",
      " [ True False  True  True]\n",
      " [False  True  True False]] \n",
      "\n",
      "[6. 9. 9. 7. 8. 7. 9.]\n"
     ]
    }
   ],
   "source": [
    "condition= arr>5\n",
    "\n",
    "print(condition,'\\n')\n",
    "print(arr[condition])"
   ]
  },
  {
   "cell_type": "markdown",
   "metadata": {},
   "source": [
    "# Arithmetic Operations within an Array"
   ]
  },
  {
   "cell_type": "code",
   "execution_count": 29,
   "metadata": {},
   "outputs": [
    {
     "name": "stdout",
     "output_type": "stream",
     "text": [
      "Printing a by adding 1 to each element:\n",
      " [[ 2  3  4]\n",
      " [ 5  6  7]\n",
      " [ 8  9 10]]\n"
     ]
    }
   ],
   "source": [
    "a= np.array([[1,2,3],[4,5,6],[7,8,9]])\n",
    "a\n",
    "\n",
    "print('Printing a by adding 1 to each element:\\n',a+1)\n",
    "\n",
    "#Similarly we can do for subtraction,multiplication and Division"
   ]
  },
  {
   "cell_type": "code",
   "execution_count": 30,
   "metadata": {},
   "outputs": [
    {
     "name": "stdout",
     "output_type": "stream",
     "text": [
      "Printing elements by doubling it:\n",
      " [[ 2  4  6]\n",
      " [ 8 10 12]\n",
      " [14 16 18]]\n"
     ]
    }
   ],
   "source": [
    "#double the elemnts in an array\n",
    "\n",
    "#Note- matrix multiplication works diffrent in matrices by using dot or mul operator \n",
    "\n",
    "b= np.array([[1,2,3],[4,5,6],[7,8,9]])\n",
    "b*= 2   #syntax for doubling the elements in array\n",
    "\n",
    "print('Printing elements by doubling it:\\n',b)"
   ]
  },
  {
   "cell_type": "code",
   "execution_count": 31,
   "metadata": {},
   "outputs": [
    {
     "name": "stdout",
     "output_type": "stream",
     "text": [
      "Printing Original array:\n",
      " [[9 7 8]\n",
      " [4 5 6]\n",
      " [1 2 3]] \n",
      "\n",
      "Printing transpose of an array:\n",
      " [[9 4 1]\n",
      " [7 5 2]\n",
      " [8 6 3]]\n"
     ]
    }
   ],
   "source": [
    "#Transpose of an array\n",
    "\n",
    "c=np.array([[9,7,8],[4,5,6],[1,2,3]])\n",
    "\n",
    "print('Printing Original array:\\n',c,'\\n')\n",
    "\n",
    "print('Printing transpose of an array:\\n',c.T)  #Synatx for transposing an array"
   ]
  },
  {
   "cell_type": "code",
   "execution_count": 32,
   "metadata": {},
   "outputs": [
    {
     "data": {
      "text/plain": [
       "array([[1.        , 1.41421356, 1.73205081],\n",
       "       [2.        , 2.23606798, 2.44948974],\n",
       "       [2.64575131, 2.82842712, 3.        ]])"
      ]
     },
     "execution_count": 32,
     "metadata": {},
     "output_type": "execute_result"
    }
   ],
   "source": [
    "np.sqrt(a)"
   ]
  },
  {
   "cell_type": "code",
   "execution_count": 33,
   "metadata": {},
   "outputs": [
    {
     "data": {
      "text/plain": [
       "array([[ 0.84147098,  0.90929743,  0.14112001],\n",
       "       [-0.7568025 , -0.95892427, -0.2794155 ],\n",
       "       [ 0.6569866 ,  0.98935825,  0.41211849]])"
      ]
     },
     "execution_count": 33,
     "metadata": {},
     "output_type": "execute_result"
    }
   ],
   "source": [
    "np.sin(a) #similarly cos ...log...also done below"
   ]
  },
  {
   "cell_type": "markdown",
   "metadata": {},
   "source": [
    "# Urinary Operators"
   ]
  },
  {
   "cell_type": "code",
   "execution_count": 129,
   "metadata": {
    "scrolled": true
   },
   "outputs": [
    {
     "name": "stdout",
     "output_type": "stream",
     "text": [
      "Original Array:\n",
      " [[1 2 3]\n",
      " [4 5 6]\n",
      " [9 8 7]]\n",
      "Largest element in an array:\n",
      " 9\n",
      "Row-wise maximum element in an array:\n",
      " [9 8 7]\n",
      "Column-wise maximumm element:\n",
      " [3 6 9]\n",
      "Column-wise minimum element in array:\n",
      " [1 4 7]\n",
      "Sum of all element of an array:\n",
      " 45\n",
      "Sum of all element of an array:\n",
      " [14 15 16]\n",
      "Cumulative sum along column wise:\n",
      " [[ 1  2  3]\n",
      " [ 5  7  9]\n",
      " [14 15 16]]\n"
     ]
    }
   ],
   "source": [
    "z=np.array([[1,2,3],[4,5,6],[9,8,7]])\n",
    "\n",
    "#Aggregate functions\n",
    "\n",
    "print('Original Array:\\n',z)\n",
    "print('Largest element in an array:\\n',z.max())\n",
    "print('Row-wise maximum element in an array:\\n',z.max(axis=0))\n",
    "print('Column-wise maximumm element:\\n',z.max(axis=1))\n",
    "print('Column-wise minimum element in array:\\n',z.min(axis=1))\n",
    "print('Sum of all element of an array:\\n',z.sum())\n",
    "print('Sum of all element of an array:\\n',z.sum(axis=0))\n",
    "print('Cumulative sum along column wise:\\n',z.cumsum(axis=0)) #cumulative sum of elements of elements\n",
    "                                                              #it will add print 1st col as it is second col by adding first and second col and third col by addin all the three col.\n",
    "#Axis=0 represents Rows and Axis=1 represents Columns"
   ]
  },
  {
   "cell_type": "code",
   "execution_count": 130,
   "metadata": {},
   "outputs": [
    {
     "data": {
      "text/plain": [
       "array([ 1,  2,  3,  4,  5,  6,  7,  8,  9, 10, 11, 12, 13, 14, 15, 16, 17,\n",
       "       18, 19])"
      ]
     },
     "execution_count": 130,
     "metadata": {},
     "output_type": "execute_result"
    }
   ],
   "source": [
    "arr2 = np.arange(1,20)\n",
    "arr2"
   ]
  },
  {
   "cell_type": "code",
   "execution_count": 131,
   "metadata": {},
   "outputs": [
    {
     "data": {
      "text/plain": [
       "10.0"
      ]
     },
     "execution_count": 131,
     "metadata": {},
     "output_type": "execute_result"
    }
   ],
   "source": [
    "# Find mean of all numbers in an array\n",
    "arr2.mean()"
   ]
  },
  {
   "cell_type": "code",
   "execution_count": 132,
   "metadata": {},
   "outputs": [
    {
     "data": {
      "text/plain": [
       "10.0"
      ]
     },
     "execution_count": 132,
     "metadata": {},
     "output_type": "execute_result"
    }
   ],
   "source": [
    "# Find median of all numbers present in arr2\n",
    "np.median(arr2)"
   ]
  },
  {
   "cell_type": "code",
   "execution_count": 133,
   "metadata": {},
   "outputs": [
    {
     "data": {
      "text/plain": [
       "30.0"
      ]
     },
     "execution_count": 133,
     "metadata": {},
     "output_type": "execute_result"
    }
   ],
   "source": [
    "# Variance\n",
    "np.var(arr2)"
   ]
  },
  {
   "cell_type": "code",
   "execution_count": 134,
   "metadata": {},
   "outputs": [
    {
     "data": {
      "text/plain": [
       "5.477225575051661"
      ]
     },
     "execution_count": 134,
     "metadata": {},
     "output_type": "execute_result"
    }
   ],
   "source": [
    "# Standard deviation\n",
    "np.std(arr2)"
   ]
  },
  {
   "cell_type": "code",
   "execution_count": 135,
   "metadata": {},
   "outputs": [
    {
     "data": {
      "text/plain": [
       "1.0"
      ]
     },
     "execution_count": 135,
     "metadata": {},
     "output_type": "execute_result"
    }
   ],
   "source": [
    "# Find the determinant\n",
    "c = np.identity(3)\n",
    "np.linalg.det(c)"
   ]
  },
  {
   "cell_type": "code",
   "execution_count": 136,
   "metadata": {},
   "outputs": [
    {
     "data": {
      "text/plain": [
       "array([[ 0.54030231, -0.41614684, -0.9899925 ],\n",
       "       [-0.65364362,  0.28366219,  0.96017029],\n",
       "       [ 0.75390225, -0.14550003, -0.91113026]])"
      ]
     },
     "execution_count": 136,
     "metadata": {},
     "output_type": "execute_result"
    }
   ],
   "source": [
    "# Take the cos\n",
    "np.cos(a)\n"
   ]
  },
  {
   "cell_type": "markdown",
   "metadata": {},
   "source": [
    "# Binary Operators"
   ]
  },
  {
   "cell_type": "code",
   "execution_count": 127,
   "metadata": {},
   "outputs": [
    {
     "name": "stdout",
     "output_type": "stream",
     "text": [
      "Addition of x and y:\n",
      " [[ 7 11]\n",
      " [ 8 10]]\n",
      "Subtraction of x from y:\n",
      " [[ 1  1]\n",
      " [-6 -6]]\n",
      "Multiplication of x and y:\n",
      " [[12 30]\n",
      " [ 7 16]]\n",
      "Matrix multiplication of x and y:\n",
      " [[54 68]\n",
      " [17 21]]\n",
      "[[4 6]\n",
      " [1 2]]\n",
      "[[3 5]\n",
      " [7 8]]\n"
     ]
    }
   ],
   "source": [
    "x=np.array([[4,6],[1,2]])\n",
    "y=np.array([[3,5],[7,8]])\n",
    "\n",
    "print('Addition of x and y:\\n',x+y)\n",
    "print('Subtraction of x from y:\\n',x-y)\n",
    "print('Multiplication of x and y:\\n',x*y)   #x*y is an element multiplication\n",
    "print('Matrix multiplication of x and y:\\n',np.matmul(x,y) )  #x.dot(y) is and matrix mupltiplication\n",
    "\n",
    "print(x)\n",
    "print(y)"
   ]
  }
 ],
 "metadata": {
  "kernelspec": {
   "display_name": "Python 3",
   "language": "python",
   "name": "python3"
  },
  "language_info": {
   "codemirror_mode": {
    "name": "ipython",
    "version": 3
   },
   "file_extension": ".py",
   "mimetype": "text/x-python",
   "name": "python",
   "nbconvert_exporter": "python",
   "pygments_lexer": "ipython3",
   "version": "3.8.8"
  }
 },
 "nbformat": 4,
 "nbformat_minor": 2
}
